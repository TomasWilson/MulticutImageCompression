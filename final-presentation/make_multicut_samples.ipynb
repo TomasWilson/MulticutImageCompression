{
 "cells": [
  {
   "cell_type": "markdown",
   "metadata": {},
   "source": [
    "Goal of this script is to generate, for each image in the test set, a multicut compressed version using the quality levels  \n",
    "1, 25, and 50. The decoded images are then saved in directory \n",
    "\n",
    "**./samples/multicut/{quality}/{category}/{filename}.png**\n",
    "\n",
    "For the algorithm, we exclusively select the ensemble codec with:\n",
    "- the ensemble multicut codec\n",
    "- the differential mean partition codec\n",
    "- zlib compression activated\n",
    "- the greedy grid optimizer"
   ]
  },
  {
   "cell_type": "code",
   "execution_count": 1,
   "metadata": {},
   "outputs": [],
   "source": [
    "from mlcv_py import make_mask_with_size, encode_mask_with_size\n",
    "from mlcv_py import MULTICUT_CODEC as mc, PARTITION_CODEC as pc, OPTIMIZER as opt\n",
    "import cv2\n",
    "from pathlib import Path\n",
    "import shutil\n",
    "from tqdm import tqdm"
   ]
  },
  {
   "cell_type": "code",
   "execution_count": 2,
   "metadata": {},
   "outputs": [
    {
     "name": "stderr",
     "output_type": "stream",
     "text": [
      "13it [34:00, 156.99s/it]\n"
     ]
    }
   ],
   "source": [
    "QUALITY_LEVELS = [1, 25, 50]\n",
    "SRC_ROOT = Path(\"../data/splitimages/test\")\n",
    "\n",
    "quality_dirs = dict()\n",
    "for quality in QUALITY_LEVELS:\n",
    "    out_dir = Path(f\"samples/multicut/{int(quality)}/\")\n",
    "    if out_dir.exists():\n",
    "        shutil.rmtree(str(out_dir))\n",
    "    out_dir.mkdir()\n",
    "    quality_dirs[quality] = out_dir\n",
    "\n",
    "for category_dir in tqdm(SRC_ROOT.glob(\"*\")):\n",
    "    if not category_dir.is_dir(): continue\n",
    "\n",
    "    for img_path in category_dir.glob(\"*.png\"):\n",
    "        img = cv2.imread(img_path, cv2.IMREAD_COLOR)\n",
    "        \n",
    "        for quality in QUALITY_LEVELS:\n",
    "            target = quality_dirs[quality] / category_dir.name\n",
    "            target.mkdir(exist_ok=True)\n",
    "\n",
    "            mask, _ = make_mask_with_size(img, mc.ENSEMBLE, pc.DIFFERENTIAL, opt.GREEDY_GRID, quality)\n",
    "            decoded_img, total_size = encode_mask_with_size(img, mask, mc.ENSEMBLE, pc.DIFFERENTIAL, True, quality)\n",
    "            target = target / f\"{total_size}###{img_path.name}\"\n",
    "\n",
    "            cv2.imwrite(str(target), decoded_img)"
   ]
  },
  {
   "cell_type": "code",
   "execution_count": null,
   "metadata": {},
   "outputs": [],
   "source": []
  }
 ],
 "metadata": {
  "kernelspec": {
   "display_name": "Python 3",
   "language": "python",
   "name": "python3"
  },
  "language_info": {
   "codemirror_mode": {
    "name": "ipython",
    "version": 3
   },
   "file_extension": ".py",
   "mimetype": "text/x-python",
   "name": "python",
   "nbconvert_exporter": "python",
   "pygments_lexer": "ipython3",
   "version": "3.12.7"
  }
 },
 "nbformat": 4,
 "nbformat_minor": 2
}
