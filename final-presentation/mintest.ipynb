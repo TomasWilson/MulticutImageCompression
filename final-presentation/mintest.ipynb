{
 "cells": [
  {
   "cell_type": "code",
   "execution_count": 33,
   "metadata": {},
   "outputs": [],
   "source": [
    "import cv2\n",
    "import numpy as np\n",
    "from PIL import Image\n",
    "import io\n",
    "import numpy as np\n",
    "from pillow_heif import register_heif_opener\n",
    "from PIL import Image\n",
    "\n",
    "p = r\"../data/images/photo_kodak/kodim04.png\"\n",
    "img = cv2.imread(p, cv2.IMREAD_COLOR)"
   ]
  },
  {
   "cell_type": "code",
   "execution_count": null,
   "metadata": {},
   "outputs": [],
   "source": [
    "def jpeg_compress(img, q):\n",
    "    res, data = cv2.imencode(\".jpg\", img, [cv2.IMWRITE_JPEG_QUALITY, q])\n",
    "    assert res\n",
    "    decoded_img = cv2.imdecode(data, cv2.IMREAD_COLOR)\n",
    "    return len(data) * 8, decoded_img\n",
    "\n",
    "\n",
    "def jpeg2000_compress(image_array, quality=50):\n",
    "    image = Image.fromarray(image_array)  # Convert NumPy array to PIL image\n",
    "    \n",
    "    buffer = io.BytesIO()\n",
    "    \n",
    "    # Save with JPEG2000 format and specified quality layer\n",
    "    image.save(buffer, format=\"JPEG2000\", quality_layers=[quality])\n",
    "\n",
    "    jpeg2000_bytes = buffer.getvalue()\n",
    "    size_in_bits = len(jpeg2000_bytes) * 8  # Convert bytes to bits\n",
    "    \n",
    "    # Decode the JPEG2000 image back to see compression artifacts\n",
    "    buffer.seek(0)  # Reset buffer position\n",
    "    decoded_image = Image.open(buffer)\n",
    "    decoded_array = np.array(decoded_image)  # Convert back to NumPy array\n",
    "\n",
    "    return size_in_bits, decoded_array\n",
    "\n",
    "\n",
    "def heif_compress(img, q):\n",
    "    # Ensure Pillow supports HEIC\n",
    "    register_heif_opener()\n",
    "    \n",
    "    # Convert OpenCV image (numpy array) to PIL Image\n",
    "    img_pil = Image.fromarray(cv2.cvtColor(img, cv2.COLOR_BGR2RGB))\n",
    "    \n",
    "    # Save the image as HEIC in memory\n",
    "    img_bytes = io.BytesIO()\n",
    "    img_pil.save(img_bytes, format=\"HEIF\", quality=q)\n",
    "    \n",
    "    # Get the size of the encoded image in bits\n",
    "    bit_size = len(img_bytes.getvalue()) * 8\n",
    "    \n",
    "    # Decode the HEIC image back to OpenCV format\n",
    "    img_bytes.seek(0)\n",
    "    decoded_pil = Image.open(img_bytes)\n",
    "    decoded_img = cv2.cvtColor(np.array(decoded_pil), cv2.COLOR_RGB2BGR)\n",
    "    \n",
    "    return bit_size, decoded_img\n"
   ]
  },
  {
   "cell_type": "code",
   "execution_count": 35,
   "metadata": {},
   "outputs": [
    {
     "data": {
      "text/plain": [
       "905192"
      ]
     },
     "execution_count": 35,
     "metadata": {},
     "output_type": "execute_result"
    }
   ],
   "source": [
    "size_jpeg, dec_jpeg = jpeg_compress(img, 92)\n",
    "size_jpeg"
   ]
  },
  {
   "cell_type": "code",
   "execution_count": 36,
   "metadata": {},
   "outputs": [],
   "source": [
    "def err(img1, img2):\n",
    "    return np.abs(img1.astype(np.float32) - img2.astype(np.float32)).sum()"
   ]
  },
  {
   "cell_type": "code",
   "execution_count": 45,
   "metadata": {},
   "outputs": [
    {
     "data": {
      "text/plain": [
       "2347216"
      ]
     },
     "execution_count": 45,
     "metadata": {},
     "output_type": "execute_result"
    }
   ],
   "source": [
    "size_heic, dec_heic = heic_compress(img, 100)\n",
    "size_heic"
   ]
  },
  {
   "cell_type": "code",
   "execution_count": 38,
   "metadata": {},
   "outputs": [
    {
     "data": {
      "text/plain": [
       "(2404005.0, 1856161.0)"
      ]
     },
     "execution_count": 38,
     "metadata": {},
     "output_type": "execute_result"
    }
   ],
   "source": [
    "err(img, dec_jpeg), err(img, dec_heic)"
   ]
  },
  {
   "cell_type": "code",
   "execution_count": 39,
   "metadata": {},
   "outputs": [],
   "source": [
    "# size_j2k, dec_j2k = jpeg2000_compress(img, quality=11)\n",
    "# size_j2k"
   ]
  },
  {
   "cell_type": "code",
   "execution_count": 40,
   "metadata": {},
   "outputs": [],
   "source": [
    "# err(img, dec_jpeg), err(img, dec_j2k)"
   ]
  }
 ],
 "metadata": {
  "kernelspec": {
   "display_name": "Python 3",
   "language": "python",
   "name": "python3"
  },
  "language_info": {
   "codemirror_mode": {
    "name": "ipython",
    "version": 3
   },
   "file_extension": ".py",
   "mimetype": "text/x-python",
   "name": "python",
   "nbconvert_exporter": "python",
   "pygments_lexer": "ipython3",
   "version": "3.11.3"
  }
 },
 "nbformat": 4,
 "nbformat_minor": 2
}
