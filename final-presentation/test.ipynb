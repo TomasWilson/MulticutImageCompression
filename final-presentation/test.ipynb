{
 "cells": [
  {
   "cell_type": "code",
   "execution_count": 1,
   "metadata": {},
   "outputs": [
    {
     "data": {
      "text/plain": [
       "(859, 200)"
      ]
     },
     "execution_count": 1,
     "metadata": {},
     "output_type": "execute_result"
    }
   ],
   "source": [
    "import mlcv_py\n",
    "from pathlib import Path\n",
    "from random import sample\n",
    "import cv2\n",
    "\n",
    "N = 200\n",
    "all_imgs = [p for p in Path(\"../data/splitimages/test/\").glob(\"**/*.png\")]\n",
    "test_imgs = sample(all_imgs, k=N)\n",
    "len(all_imgs), len(test_imgs)"
   ]
  },
  {
   "cell_type": "code",
   "execution_count": 2,
   "metadata": {},
   "outputs": [
    {
     "name": "stderr",
     "output_type": "stream",
     "text": [
      "generating masks: 100%|██████████| 200/200 [00:43<00:00,  4.61it/s]\n",
      "Processing: 100%|██████████| 200/200 [00:07<00:00, 25.08it/s]\n",
      "Processing: 100%|██████████| 200/200 [00:07<00:00, 28.21it/s]\n",
      "Processing: 100%|██████████| 200/200 [00:07<00:00, 27.31it/s]\n"
     ]
    },
    {
     "name": "stdout",
     "output_type": "stream",
     "text": [
      "border: 79954330 | adaptive: 72506259 | ensemble: 72351403\n"
     ]
    },
    {
     "name": "stderr",
     "output_type": "stream",
     "text": [
      "generating masks: 100%|██████████| 200/200 [00:31<00:00,  6.31it/s]\n",
      "Processing: 100%|██████████| 200/200 [00:07<00:00, 25.79it/s]\n",
      "Processing: 100%|██████████| 200/200 [00:06<00:00, 31.18it/s]\n",
      "Processing: 100%|██████████| 200/200 [00:06<00:00, 29.44it/s]\n"
     ]
    },
    {
     "name": "stdout",
     "output_type": "stream",
     "text": [
      "border: 50759977 | adaptive: 51954772 | ensemble: 49613389\n"
     ]
    },
    {
     "name": "stderr",
     "output_type": "stream",
     "text": [
      "generating masks: 100%|██████████| 200/200 [00:31<00:00,  6.41it/s]\n",
      "Processing: 100%|██████████| 200/200 [00:07<00:00, 25.15it/s]\n",
      "Processing: 100%|██████████| 200/200 [00:06<00:00, 29.66it/s]\n",
      "Processing: 100%|██████████| 200/200 [00:08<00:00, 24.82it/s]\n"
     ]
    },
    {
     "name": "stdout",
     "output_type": "stream",
     "text": [
      "border: 43019276 | adaptive: 46088359 | ensemble: 42371727\n"
     ]
    },
    {
     "name": "stderr",
     "output_type": "stream",
     "text": [
      "generating masks: 100%|██████████| 200/200 [00:29<00:00,  6.75it/s]\n",
      "Processing: 100%|██████████| 200/200 [00:07<00:00, 26.16it/s]\n",
      "Processing: 100%|██████████| 200/200 [00:06<00:00, 32.53it/s]\n",
      "Processing: 100%|██████████| 200/200 [00:07<00:00, 26.24it/s]"
     ]
    },
    {
     "name": "stdout",
     "output_type": "stream",
     "text": [
      "border: 35910959 | adaptive: 40590880 | ensemble: 35656474\n"
     ]
    },
    {
     "name": "stderr",
     "output_type": "stream",
     "text": [
      "\n"
     ]
    }
   ],
   "source": [
    "from tqdm import tqdm\n",
    "import time\n",
    "from collections import defaultdict\n",
    "from batch import batch_execute\n",
    "\n",
    "data = defaultdict(list)\n",
    "\n",
    "OPT_LEVELS = [1, 25, 50, 100]\n",
    "for opt_lvl in OPT_LEVELS:\n",
    "\n",
    "    tot_border = 0\n",
    "    tot_adaptive = 0\n",
    "    tot_ensemble = 0\n",
    "\n",
    "    imgs = [cv2.imread(str(img_p)) for img_p in test_imgs]\n",
    "    masks = [mlcv_py.optimize_grid_mean(img, opt_lvl) for img in tqdm(imgs, \"generating masks\")]\n",
    "\n",
    "    border_bits = batch_execute(\"test_border_encoding\", [(m,) for m in masks])\n",
    "    adaptive_bits = batch_execute(\"test_adaptive_multicut_aware_encoding\", [(m,) for m in masks])\n",
    "    ensemble_bits = batch_execute(\"test_ensemble_encoding\", [(m, opt_lvl) for m in masks])\n",
    "    data[opt_lvl].append((border_bits, adaptive_bits, ensemble_bits))\n",
    "\n",
    "    print(f\"border: {sum(border_bits)} | adaptive: {sum(adaptive_bits)} | ensemble: {sum(ensemble_bits)}\")"
   ]
  },
  {
   "cell_type": "code",
   "execution_count": null,
   "metadata": {},
   "outputs": [],
   "source": []
  }
 ],
 "metadata": {
  "kernelspec": {
   "display_name": "Python 3",
   "language": "python",
   "name": "python3"
  },
  "language_info": {
   "codemirror_mode": {
    "name": "ipython",
    "version": 3
   },
   "file_extension": ".py",
   "mimetype": "text/x-python",
   "name": "python",
   "nbconvert_exporter": "python",
   "pygments_lexer": "ipython3",
   "version": "3.12.7"
  }
 },
 "nbformat": 4,
 "nbformat_minor": 2
}
