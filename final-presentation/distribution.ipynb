{
 "cells": [
  {
   "cell_type": "markdown",
   "metadata": {},
   "source": [
    "This script computes the share of multicut vs color encoding in the image, \n",
    "once in generall and once across the classes of the dataset"
   ]
  },
  {
   "cell_type": "code",
   "execution_count": 1,
   "metadata": {},
   "outputs": [],
   "source": [
    "import matplotlib.pyplot as plt\n",
    "import seaborn as sns\n",
    "import pandas as pd\n",
    "import mlcv_py\n",
    "import batch\n",
    "from pathlib import Path\n",
    "import cv2\n",
    "from tqdm import tqdm\n",
    "from random import sample"
   ]
  },
  {
   "cell_type": "code",
   "execution_count": 2,
   "metadata": {},
   "outputs": [],
   "source": [
    "from mlcv_py import PARTITION_CODEC as pc\n",
    "from mlcv_py import MULTICUT_CODEC as mc\n",
    "from mlcv_py import OPTIMIZER as opt"
   ]
  },
  {
   "cell_type": "code",
   "execution_count": 3,
   "metadata": {},
   "outputs": [],
   "source": [
    "\n",
    "def get_distribution(multi, part, opti, lvl, N=None) -> pd.DataFrame:\n",
    "    \n",
    "    root = Path(\"../data/images\")\n",
    "    \n",
    "    imgs_by_category = dict()\n",
    "    for dir in root.glob(\"*\"):\n",
    "        if not dir.is_dir(): continue\n",
    "\n",
    "        paths = list(dir.glob(\"*.png\"))\n",
    "        if N is not None:\n",
    "            paths = sample(paths, k=min(N, len(paths)))\n",
    "\n",
    "        \n",
    "        imgs = [cv2.imread(img_p, cv2.IMREAD_COLOR) for img_p in paths]\n",
    "        imgs_by_category[dir.name] = imgs\n",
    "\n",
    "    res_dict = dict()\n",
    "\n",
    "    for name, imgs in tqdm(imgs_by_category.items()):\n",
    "\n",
    "        inputs_masks = [(img, multi, part, opti, lvl) for img in imgs]\n",
    "\n",
    "        res = batch.batch_execute(\"make_mask_with_size\", inputs_masks, cpu_count=2)\n",
    "        masks = [t[0] for t in res]\n",
    "        mask_sizes = [t[1] for t in res]\n",
    "\n",
    "        inputs_encode = [(img, mask, multi, part, False) for img, mask in zip(imgs, masks)]\n",
    "        res = batch.batch_execute(\"encode_mask_with_size\", inputs_encode)\n",
    "        total_sizes = [t[1] for t in res]\n",
    "\n",
    "        res_dict[name] = [(ms, ts - ms) for ms, ts in zip(mask_sizes, total_sizes)]\n",
    "\n",
    "    return res_dict\n"
   ]
  },
  {
   "cell_type": "code",
   "execution_count": 4,
   "metadata": {},
   "outputs": [],
   "source": [
    "import matplotlib.pyplot as plt\n",
    "import seaborn as sns\n",
    "import pandas as pd\n",
    "import numpy as np\n",
    "\n",
    "def make_plot(title, filename, multi, part, opti, lvl, N=None):\n",
    "\n",
    "    res = get_distribution(multi, part, opti, lvl, N)\n",
    "\n",
    "    names = list(res.keys())\n",
    "    data = {\n",
    "        \"category\": names,\n",
    "        \"multicut size\": [sum(t[0] for t in res[name]) for name in names],\n",
    "        \"partition size\": [sum(t[1] for t in res[name]) for name in names]\n",
    "    }\n",
    "\n",
    "    df = pd.DataFrame(data)\n",
    "\n",
    "    # Add total row\n",
    "    total_values = df[['multicut size', 'partition size']].sum()\n",
    "    total_row = pd.DataFrame({'category': ['Total'], 'multicut size': [total_values['multicut size']], 'partition size': [total_values['partition size']]})\n",
    "    df = pd.concat([df, total_row], ignore_index=True)\n",
    "\n",
    "    # Normalize values so each bar has the same total height\n",
    "    df[['multicut size', 'partition size']] = df[['multicut size', 'partition size']].div(df[['multicut size', 'partition size']].sum(axis=1), axis=0)\n",
    "\n",
    "    # Stacked Bar Chart\n",
    "    fig, ax = plt.subplots(figsize=(8, 5))\n",
    "    df.set_index('category').plot(kind='bar', stacked=True, ax=ax, color=['#8B0000', '#1E3A8A'])  # Dark Red and Dark Blue\n",
    "\n",
    "    plt.title(title)\n",
    "    plt.legend(title=\"Size Type\")\n",
    "\n",
    "    # Save the figure with 600dpi and thin margins\n",
    "    plt.savefig(filename, dpi=600, bbox_inches='tight')\n",
    "    plt.show()\n"
   ]
  },
  {
   "cell_type": "code",
   "execution_count": 5,
   "metadata": {},
   "outputs": [
    {
     "name": "stdout",
     "output_type": "stream",
     "text": []
    },
    {
     "name": "stdout",
     "output_type": "stream",
     "text": []
    }
   ],
   "source": [
    "N = 25\n",
    "make_plot(\n",
    "    \"Verhätnis Multicut zu Partitionskodierung: alter Algorithmus, niedrige Qualität\",\n",
    "    \"ratio/legacy-low-quality.png\",\n",
    "    mc.HUFFMAN,\n",
    "    pc.SIMPLE,\n",
    "    opt.GREEDY_GRID,\n",
    "    25.0,\n",
    "    N=N\n",
    ")"
   ]
  },
  {
   "cell_type": "code",
   "execution_count": 6,
   "metadata": {},
   "outputs": [
    {
     "name": "stdout",
     "output_type": "stream",
     "text": []
    },
    {
     "name": "stdout",
     "output_type": "stream",
     "text": []
    }
   ],
   "source": [
    "make_plot(\n",
    "    \"Verhätnis Multicut zu Partitionskodierung: alter Algorithmus, hohe Qualität\",\n",
    "    \"ratio/legacy-high-quality.png\",\n",
    "    mc.HUFFMAN,\n",
    "    pc.SIMPLE,\n",
    "    opt.GREEDY_GRID,\n",
    "    1.0,\n",
    "    N=N\n",
    ")"
   ]
  }
 ],
 "metadata": {
  "kernelspec": {
   "display_name": "Python 3",
   "language": "python",
   "name": "python3"
  },
  "language_info": {
   "codemirror_mode": {
    "name": "ipython",
    "version": 3
   },
   "file_extension": ".py",
   "mimetype": "text/x-python",
   "name": "python",
   "nbconvert_exporter": "python",
   "pygments_lexer": "ipython3",
   "version": "3.12.7"
  }
 },
 "nbformat": 4,
 "nbformat_minor": 2
}
