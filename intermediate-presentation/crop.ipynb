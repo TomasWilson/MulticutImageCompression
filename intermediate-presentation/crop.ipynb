{
 "cells": [
  {
   "cell_type": "code",
   "execution_count": 5,
   "metadata": {},
   "outputs": [],
   "source": [
    "import cv2\n",
    "from pathlib import Path\n",
    "from typing import List\n",
    "\n",
    "def make_crop(img_paths: List[str], sr, sc, dr, dc):\n",
    "    img_paths = [Path(p) for p in img_paths]\n",
    "    for p in img_paths:\n",
    "        img = cv2.imread(str(p), cv2.IMREAD_COLOR)\n",
    "        outp = p.parents[0] / (p.stem + \"-cropped.png\")\n",
    "        img = cv2.resize(img[sr:sr+dr, sc:sc+dc, :], (dr*20, dc*20), interpolation=cv2.INTER_NEAREST)\n",
    "        cv2.imwrite(str(outp), img)"
   ]
  },
  {
   "cell_type": "code",
   "execution_count": 6,
   "metadata": {},
   "outputs": [],
   "source": [
    "make_crop([\"address-book-decoded.png\", \"address-book-mask.png\", \"address-book.png\"], 100, 100, 75, 75)"
   ]
  },
  {
   "cell_type": "code",
   "execution_count": 7,
   "metadata": {},
   "outputs": [],
   "source": [
    "make_crop([\"wikipedia001.png\", \"wikipedia001-mask.png\", \"wikipedia001-decoded.png\"], 300, 570, 60, 60)"
   ]
  }
 ],
 "metadata": {
  "kernelspec": {
   "display_name": "Python 3",
   "language": "python",
   "name": "python3"
  },
  "language_info": {
   "codemirror_mode": {
    "name": "ipython",
    "version": 3
   },
   "file_extension": ".py",
   "mimetype": "text/x-python",
   "name": "python",
   "nbconvert_exporter": "python",
   "pygments_lexer": "ipython3",
   "version": "3.12.7"
  }
 },
 "nbformat": 4,
 "nbformat_minor": 2
}
