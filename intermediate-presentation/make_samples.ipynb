{
 "cells": [
  {
   "cell_type": "code",
   "execution_count": 1,
   "metadata": {},
   "outputs": [],
   "source": [
    "import mlcv_py\n",
    "import cv2\n",
    "import matplotlib.pyplot as plt\n",
    "import numpy as np\n",
    "import tabulate\n",
    "from skimage.metrics import mean_squared_error, peak_signal_noise_ratio, structural_similarity"
   ]
  },
  {
   "cell_type": "code",
   "execution_count": 2,
   "metadata": {},
   "outputs": [],
   "source": [
    "def imshow_bgr(img_bgr):\n",
    "    img_rgb = cv2.cvtColor(img_bgr, cv2.COLOR_BGR2RGB)\n",
    "    plt.gca().set_xticks([])\n",
    "    plt.gca().set_yticks([])\n",
    "    plt.imshow(img_rgb)\n",
    "    plt.plot()"
   ]
  },
  {
   "cell_type": "code",
   "execution_count": 3,
   "metadata": {},
   "outputs": [],
   "source": [
    "from pathlib import Path\n",
    "import shutil\n",
    "\n",
    "data_root = Path(\"../data/images\")\n",
    "out_root = Path(\"results\")\n",
    "if out_root.exists():\n",
    "    shutil.rmtree(str(out_root))\n",
    "out_root.mkdir()\n",
    "\n",
    "SAMPLES_PER_CATEGORY = 10"
   ]
  },
  {
   "cell_type": "code",
   "execution_count": 4,
   "metadata": {},
   "outputs": [],
   "source": [
    "JPEG_QUALITY_LEVELS = [i for i in range(0, 101, 5)]\n",
    "MULTICUT_QUALITY_SETTINGS = [0.5, 1, 3, 5, 10, 20, 50, 75, 100, 250, 500, 750, 1000, 2000, 3000, 5000, 7500, 10000, 15000, 25000, 35000, 50000, 100000]"
   ]
  },
  {
   "cell_type": "code",
   "execution_count": 5,
   "metadata": {},
   "outputs": [
    {
     "name": "stderr",
     "output_type": "stream",
     "text": [
      "100%|██████████| 10/10 [00:18<00:00,  1.87s/it]\n",
      "100%|██████████| 10/10 [00:01<00:00,  6.62it/s]\n",
      "100%|██████████| 10/10 [00:43<00:00,  4.37s/it]\n",
      "100%|██████████| 10/10 [02:23<00:00, 14.39s/it]\n",
      "100%|██████████| 10/10 [02:10<00:00, 13.02s/it]\n",
      "100%|██████████| 10/10 [01:06<00:00,  6.66s/it]\n",
      "100%|██████████| 10/10 [01:09<00:00,  6.94s/it]\n",
      "100%|██████████| 10/10 [18:59<00:00, 113.98s/it]\n",
      "100%|██████████| 10/10 [02:26<00:00, 14.61s/it]\n",
      "100%|██████████| 10/10 [00:07<00:00,  1.35it/s]\n",
      "100%|██████████| 10/10 [00:28<00:00,  2.86s/it]\n",
      "100%|██████████| 10/10 [00:26<00:00,  2.68s/it]\n",
      "100%|██████████| 10/10 [01:52<00:00, 11.27s/it]\n"
     ]
    }
   ],
   "source": [
    "import random \n",
    "from tqdm import tqdm\n",
    "\n",
    "for sub_dir in data_root.glob(\"*\"):\n",
    "    if not sub_dir.is_dir(): continue\n",
    "\n",
    "    category_dir = out_root / sub_dir.stem\n",
    "    category_dir.mkdir()\n",
    "\n",
    "    img_paths = list(sub_dir.glob(\"*.png\"))\n",
    "    sample_paths = random.sample(img_paths, k=SAMPLES_PER_CATEGORY)\n",
    "    for sample_path in tqdm(sample_paths):\n",
    "\n",
    "        img = cv2.imread(sample_path, cv2.IMREAD_COLOR)\n",
    "        sample_dir = category_dir / sample_path.stem\n",
    "        sample_dir.mkdir()\n",
    "\n",
    "        cv2.imwrite(str(sample_dir / \"original.png\"), img)\n",
    "\n",
    "        for method in [\"jpg\", \"multicut\"]:\n",
    "            qualities = JPEG_QUALITY_LEVELS if method == \"jpg\" else MULTICUT_QUALITY_SETTINGS\n",
    "            for q in qualities:\n",
    "                sample_basename = f\"{sample_path.stem}-{method}-{q}\"\n",
    "\n",
    "                if method == \"jpg\":\n",
    "                    res, data = cv2.imencode(\".jpg\", img, [cv2.IMWRITE_JPEG_QUALITY, q])\n",
    "                    assert res\n",
    "                    decoded_img = cv2.imdecode(data, cv2.IMREAD_COLOR)\n",
    "                    out_name = f\"{sample_basename}-{len(data)*8}.png\"\n",
    "                    out_path = sample_dir / out_name\n",
    "                    cv2.imwrite(str(out_path), decoded_img)\n",
    "                elif method == \"multicut\":\n",
    "                    decoded_img, bits = mlcv_py.compress_grid_mean_huffman(img, weight_size=q)\n",
    "                    out_name = f\"{sample_basename}-{bits}.png\"\n",
    "                    out_path = sample_dir / out_name\n",
    "                    cv2.imwrite(str(out_path), decoded_img)\n",
    "                else:\n",
    "                    raise ValueError(\"method does not exist\")\n",
    "\n",
    "                # print(sample_basename)\n",
    "\n",
    "\n"
   ]
  },
  {
   "cell_type": "code",
   "execution_count": null,
   "metadata": {},
   "outputs": [],
   "source": []
  }
 ],
 "metadata": {
  "kernelspec": {
   "display_name": "Python 3",
   "language": "python",
   "name": "python3"
  },
  "language_info": {
   "codemirror_mode": {
    "name": "ipython",
    "version": 3
   },
   "file_extension": ".py",
   "mimetype": "text/x-python",
   "name": "python",
   "nbconvert_exporter": "python",
   "pygments_lexer": "ipython3",
   "version": "3.12.7"
  }
 },
 "nbformat": 4,
 "nbformat_minor": 2
}
